{
 "cells": [
  {
   "cell_type": "code",
   "execution_count": 5,
   "metadata": {},
   "outputs": [],
   "source": [
    "import pandas as pd\n",
    "import numpy as np\n",
    "\n",
    "import matplotlib.pyplot as plt\n",
    "import seaborn as sns\n",
    "from bqplot import pyplot \n",
    "\n",
    "import folium\n",
    "import fiona\n",
    "import gdal\n",
    "import rasterio\n",
    "import shapefile as shp\n",
    "\n",
    "import os\n",
    "\n",
    "import chart_studio.plotly\n",
    "import plotly.graph_objs as go\n",
    "# import plotly\n",
    "\n",
    "chart_studio.tools.set_credentials_file(username='dishha', api_key='CmkdrDbPF7sMOY60fOMY')\n",
    "mapbox_token = os.getenv('pk.eyJ1IjoiZGlzaGhhIiwiYSI6ImNrMDlmNGlzczA2NzQzZG9jcjc5NjEwZnoifQ.kH_uVGITVBICzi6QnWcVhg')\n",
    "\n",
    "from mapboxgl.utils import create_color_stops, df_to_geojson\n",
    "from mapboxgl.viz import CircleViz\n",
    "\n",
    "from opencage.geocoder import OpenCageGeocode\n",
    "key = 'cddaa05552b243d390c990b52dbd72dd' #opencage geocode key\n",
    "\n"
   ]
  },
  {
   "cell_type": "code",
   "execution_count": 3,
   "metadata": {},
   "outputs": [],
   "source": [
    "df = pd.read_excel(\"All_Cities.xlsx\")"
   ]
  },
  {
   "cell_type": "code",
   "execution_count": 4,
   "metadata": {},
   "outputs": [
    {
     "data": {
      "text/html": [
       "<div>\n",
       "<style scoped>\n",
       "    .dataframe tbody tr th:only-of-type {\n",
       "        vertical-align: middle;\n",
       "    }\n",
       "\n",
       "    .dataframe tbody tr th {\n",
       "        vertical-align: top;\n",
       "    }\n",
       "\n",
       "    .dataframe thead th {\n",
       "        text-align: right;\n",
       "    }\n",
       "</style>\n",
       "<table border=\"1\" class=\"dataframe\">\n",
       "  <thead>\n",
       "    <tr style=\"text-align: right;\">\n",
       "      <th></th>\n",
       "      <th>year</th>\n",
       "      <th>month</th>\n",
       "      <th>day</th>\n",
       "      <th>SO2</th>\n",
       "      <th>NO2</th>\n",
       "      <th>PM10</th>\n",
       "      <th>Stn Code</th>\n",
       "      <th>State</th>\n",
       "      <th>City</th>\n",
       "    </tr>\n",
       "  </thead>\n",
       "  <tbody>\n",
       "    <tr>\n",
       "      <th>0</th>\n",
       "      <td>2015</td>\n",
       "      <td>1</td>\n",
       "      <td>1</td>\n",
       "      <td>9.0</td>\n",
       "      <td>18.0</td>\n",
       "      <td>46.0</td>\n",
       "      <td>233</td>\n",
       "      <td>Andhra Pradesh</td>\n",
       "      <td>Visakhapatnam</td>\n",
       "    </tr>\n",
       "    <tr>\n",
       "      <th>1</th>\n",
       "      <td>2015</td>\n",
       "      <td>1</td>\n",
       "      <td>4</td>\n",
       "      <td>8.0</td>\n",
       "      <td>18.0</td>\n",
       "      <td>27.0</td>\n",
       "      <td>233</td>\n",
       "      <td>Andhra Pradesh</td>\n",
       "      <td>Visakhapatnam</td>\n",
       "    </tr>\n",
       "    <tr>\n",
       "      <th>2</th>\n",
       "      <td>2015</td>\n",
       "      <td>1</td>\n",
       "      <td>7</td>\n",
       "      <td>9.0</td>\n",
       "      <td>15.0</td>\n",
       "      <td>29.0</td>\n",
       "      <td>233</td>\n",
       "      <td>Andhra Pradesh</td>\n",
       "      <td>Visakhapatnam</td>\n",
       "    </tr>\n",
       "    <tr>\n",
       "      <th>3</th>\n",
       "      <td>2015</td>\n",
       "      <td>1</td>\n",
       "      <td>10</td>\n",
       "      <td>7.0</td>\n",
       "      <td>17.0</td>\n",
       "      <td>78.0</td>\n",
       "      <td>233</td>\n",
       "      <td>Andhra Pradesh</td>\n",
       "      <td>Visakhapatnam</td>\n",
       "    </tr>\n",
       "    <tr>\n",
       "      <th>4</th>\n",
       "      <td>2015</td>\n",
       "      <td>1</td>\n",
       "      <td>13</td>\n",
       "      <td>9.0</td>\n",
       "      <td>23.0</td>\n",
       "      <td>35.0</td>\n",
       "      <td>233</td>\n",
       "      <td>Andhra Pradesh</td>\n",
       "      <td>Visakhapatnam</td>\n",
       "    </tr>\n",
       "  </tbody>\n",
       "</table>\n",
       "</div>"
      ],
      "text/plain": [
       "   year  month  day  SO2   NO2  PM10  Stn Code           State           City\n",
       "0  2015      1    1  9.0  18.0  46.0       233  Andhra Pradesh  Visakhapatnam\n",
       "1  2015      1    4  8.0  18.0  27.0       233  Andhra Pradesh  Visakhapatnam\n",
       "2  2015      1    7  9.0  15.0  29.0       233  Andhra Pradesh  Visakhapatnam\n",
       "3  2015      1   10  7.0  17.0  78.0       233  Andhra Pradesh  Visakhapatnam\n",
       "4  2015      1   13  9.0  23.0  35.0       233  Andhra Pradesh  Visakhapatnam"
      ]
     },
     "execution_count": 4,
     "metadata": {},
     "output_type": "execute_result"
    }
   ],
   "source": [
    "df.head()"
   ]
  },
  {
   "cell_type": "code",
   "execution_count": 10,
   "metadata": {},
   "outputs": [
    {
     "data": {
      "text/plain": [
       "(213083, 9)"
      ]
     },
     "execution_count": 10,
     "metadata": {},
     "output_type": "execute_result"
    }
   ],
   "source": [
    "df.shape"
   ]
  },
  {
   "cell_type": "code",
   "execution_count": 4,
   "metadata": {},
   "outputs": [
    {
     "data": {
      "text/plain": [
       "array([2015, 2014, 2013, 2012, 2011], dtype=int64)"
      ]
     },
     "execution_count": 4,
     "metadata": {},
     "output_type": "execute_result"
    }
   ],
   "source": [
    "df[\"year\"].unique()"
   ]
  },
  {
   "cell_type": "code",
   "execution_count": 5,
   "metadata": {},
   "outputs": [
    {
     "data": {
      "text/plain": [
       "array(['Andhra Pradesh', 'Arunachal Pradesh', 'Assam', 'Chandigarh',\n",
       "       'Chhattisgarh', 'Dadra and Nagar Haveli', 'Daman and Diu', 'Delhi',\n",
       "       'Goa', 'Gujarat', 'Haryana', 'Himachal Pradesh', 'Jammu & Kashmir',\n",
       "       'Jharkhand', 'Karnataka', 'Kerala', 'Madhya Pradesh',\n",
       "       'Maharashtra', 'Meghalaya', 'Mizoram', 'Nagaland', 'Odisha',\n",
       "       'Puducherry', 'Punjab', 'Rajasthan', 'Tamil Nadu', 'Telangana',\n",
       "       'Uttarakhand', 'Uttar Pradesh', 'West Bengal', 'Bihar'],\n",
       "      dtype=object)"
      ]
     },
     "execution_count": 5,
     "metadata": {},
     "output_type": "execute_result"
    }
   ],
   "source": [
    "df[\"State\"].unique()"
   ]
  },
  {
   "cell_type": "code",
   "execution_count": 8,
   "metadata": {},
   "outputs": [
    {
     "data": {
      "text/plain": [
       "31"
      ]
     },
     "execution_count": 8,
     "metadata": {},
     "output_type": "execute_result"
    }
   ],
   "source": [
    "df[\"State\"].nunique()"
   ]
  },
  {
   "cell_type": "code",
   "execution_count": 7,
   "metadata": {},
   "outputs": [
    {
     "data": {
      "text/plain": [
       "array(['Visakhapatnam', 'Tirupati', 'Vijayawada', 'Kurnool', 'Kakinada',\n",
       "       'Nellore', 'Chittoor', 'Guntur', 'Ananthapur', 'Kadapa', 'Eluru',\n",
       "       'Srikakulam', 'Vizianagaram', 'Ongole', 'Rajahmundry', 'Itanagar',\n",
       "       'Naharlagun', 'Guwahati', 'Bongaigaon', 'Tezpur', 'Sivasagar',\n",
       "       'Dibrugarh', 'Golaghat', 'Daranga', 'Silcher', 'Margherita',\n",
       "       'Lakhimpur', 'Tinsukia', 'Nagaon', 'Nalbari', 'Chandigarh',\n",
       "       'Bhilai', 'Raipur', 'Korba', 'Bilaspur', 'Khadoli', 'Daman',\n",
       "       'Delhi', 'Vasco', 'Panaji', 'Curchorem', 'Usgao', 'Codli', 'Honda',\n",
       "       'Bicholim', 'Amona', 'Assanora', 'Margao', 'Mapusa', 'Ponda',\n",
       "       'Sanguem', 'Tilamol', 'Kundaim', 'Cuncolim', 'Surat', 'Vadodara',\n",
       "       'Ahmedabad', 'Vapi', 'Ankleshwar', 'Rajkot', 'Jamnagar',\n",
       "       'ANKLESHWAR', 'VAPI', 'Bharuch', 'Bhuj', 'MORBI', 'SANAND',\n",
       "       'Sarigam', 'Faridabad', 'Shimla', 'Paonta Sahib', 'Parwanoo',\n",
       "       'Damtal', 'Baddi', 'Kala Amb', 'Nalagarh', 'Sunder Nagar', 'Una',\n",
       "       'Manali', 'Dharamshala', 'Jammu', 'Dhanbad', 'Sindri', 'Jharia',\n",
       "       'Jamshedpur', 'Ranchi', 'Saraikela Kharsawan', 'West Singhbhum',\n",
       "       'Mysore', 'Bangalore', 'Hubli', 'Dharwad', 'Hassan', 'Gulbarga',\n",
       "       'Belgaum', 'Mangalore', 'Domlur', 'Davangere', 'Ranebennur',\n",
       "       'Mandya', 'Raichur', 'Bijapur', 'Chitradurga', 'Shimoga', 'Kolar',\n",
       "       'Bidar', 'Tumkur', 'Kochi', 'Thiruvananthapuram', 'Kottayam',\n",
       "       'Palakkad', 'Kozhikode', 'Alappuzha', 'Pathanamthitta', 'Kollam',\n",
       "       'Wayanad', 'Malappuram', 'Thissur', 'Nagda', 'Bhopal', 'Indore',\n",
       "       'Jabalpur', 'Satna', 'Gwalior', 'Singrauli', 'Dewas', 'Ujjain',\n",
       "       'Sagar', 'Chhindwara', 'Amlai', 'Pithampur', 'Nagpur', 'Mumbai',\n",
       "       'Nashik', 'Dombivli', 'Chandrapur', 'Solapur', 'Thane', 'Pune',\n",
       "       'Lote', 'Navi Mumbai', 'Kolhapur', 'Aurangabad', 'Amravati',\n",
       "       'Sangli', 'Latur', 'Jalgaon', 'Ulhasnagar', 'Badlapur', 'Akola',\n",
       "       'Nanded', 'Jalna', 'Shillong', 'Byrnihat', 'Dawki', 'Tura',\n",
       "       'Nongstoin', 'Khliehriat', 'Umsning', 'Aizawl', 'Champhai',\n",
       "       'Kolasib', 'Lunglei', 'Dimapur', 'Kohima', 'Talcher', 'Angul',\n",
       "       'Rourkela', 'Rayagada', 'Bhubaneswar', 'Cuttack', 'Sambalpur',\n",
       "       'Balasore', 'Berhampur', 'Keonjhar', 'Paradeep', 'Kalinga Nagar',\n",
       "       'Konark', 'Puri', 'Pondicherry', 'Karaikal', 'Ludhiana',\n",
       "       'Jalandhar', 'Gobindgarh', 'Naya Nangal', 'Khanna', 'Amritsar',\n",
       "       'Dera Bassi', 'Bathinda', 'Dera Baba', 'Patiala', 'Sangrur',\n",
       "       'Faridkot', 'Hoshiarpur', 'Kota', 'Alwar', 'Jodhpur', 'Udaipur',\n",
       "       'Jaipur', 'Chennai', 'Coimbatore', 'Thoothukudi', 'Madurai',\n",
       "       'Salem', 'Cuddalore', 'Mettur', 'Trichy', 'Hyderabad',\n",
       "       'Ramagundam', 'Patancheru', 'Nalgonda', 'Warangal', 'Khammam',\n",
       "       'Kothur', 'Karimnagar', 'Sangareddy', 'Dehradun', 'Haldwani',\n",
       "       'Rudrapur', 'Kashipur', 'Haridwar', 'Rishikesh', 'Agra', 'Anpara',\n",
       "       'Renusagar', 'Kanpur', 'Lucknow', 'Gajraula', 'Ghaziabad',\n",
       "       'Varanasi', 'Noida', 'Firozabad', 'Jhansi', 'Khurja', 'Allahabad',\n",
       "       'Moradabad', 'Bareilly', 'Rai Bareilly', 'Unnao', 'Gorakhpur',\n",
       "       'Howrah', 'Haldia', 'Kolkata', 'Durgapur', 'Asansol',\n",
       "       'South Suburban', 'Barrackpore', 'Raniganj', 'DANKUNI', 'HALDIA',\n",
       "       'Kalyani', 'MALDAH', 'SILIGURI', 'ULUBERIA', 'Yamuna Nagar',\n",
       "       'Nizamabad', 'Patna', 'Hisar', 'Mathura', 'Meerut', 'Mahad',\n",
       "       'Roha', 'Saharanpur', 'Sankrail'], dtype=object)"
      ]
     },
     "execution_count": 7,
     "metadata": {},
     "output_type": "execute_result"
    }
   ],
   "source": [
    "df[\"City\"].unique()"
   ]
  },
  {
   "cell_type": "code",
   "execution_count": 9,
   "metadata": {},
   "outputs": [
    {
     "data": {
      "text/plain": [
       "264"
      ]
     },
     "execution_count": 9,
     "metadata": {},
     "output_type": "execute_result"
    }
   ],
   "source": [
    "df[\"City\"].nunique()"
   ]
  },
  {
   "cell_type": "markdown",
   "metadata": {},
   "source": [
    "Adding Lat Longitude Coordinates Columns"
   ]
  },
  {
   "cell_type": "code",
   "execution_count": 7,
   "metadata": {},
   "outputs": [],
   "source": [
    "geocoder = OpenCageGeocode(key)"
   ]
  },
  {
   "cell_type": "code",
   "execution_count": 8,
   "metadata": {},
   "outputs": [
    {
     "name": "stdout",
     "output_type": "stream",
     "text": [
      "[{'annotations': {'DMS': {'lat': \"17° 43' 23.25936'' N\", 'lng': \"83° 18' 4.62312'' E\"}, 'MGRS': '44QQE4405161046', 'Maidenhead': 'NK17pr63dn', 'Mercator': {'x': 9273056.54, 'y': 1992165.796}, 'OSM': {'edit_url': 'https://www.openstreetmap.org/edit?node=245641840#map=16/17.72313/83.30128', 'url': 'https://www.openstreetmap.org/?mlat=17.72313&mlon=83.30128#map=16/17.72313/83.30128'}, 'UN_M49': {'regions': {'ASIA': '142', 'IN': '356', 'SOUTHERN_ASIA': '034', 'WORLD': '001'}, 'statistical_groupings': ['LEDC']}, 'callingcode': 91, 'currency': {'alternate_symbols': ['Rs', '৳', '૱', '௹', 'रु', '₨'], 'decimal_mark': '.', 'html_entity': '&#x20b9;', 'iso_code': 'INR', 'iso_numeric': '356', 'name': 'Indian Rupee', 'smallest_denomination': 50, 'subunit': 'Paisa', 'subunit_to_unit': 100, 'symbol': '₹', 'symbol_first': 1, 'thousands_separator': ','}, 'flag': '🇮🇳', 'geohash': 'tg5hzd6hsw7qpn6myx87', 'qibla': 282.52, 'roadinfo': {'drive_on': 'left', 'speed_in': 'km/h'}, 'sun': {'rise': {'apparent': 1567815240, 'astronomical': 1567897260, 'civil': 1567900380, 'nautical': 1567898820}, 'set': {'apparent': 1567859820, 'astronomical': 1567864200, 'civil': 1567861140, 'nautical': 1567862640}}, 'timezone': {'name': 'Asia/Kolkata', 'now_in_dst': 0, 'offset_sec': 19800, 'offset_string': '+0530', 'short_name': 'IST'}, 'what3words': {'words': 'array.delusions.hopping'}, 'wikidata': 'Q200016'}, 'bounds': {'northeast': {'lat': 17.8831276, 'lng': 83.4612842}, 'southwest': {'lat': 17.5631276, 'lng': 83.1412842}}, 'components': {'ISO_3166-1_alpha-2': 'IN', 'ISO_3166-1_alpha-3': 'IND', '_type': 'city', 'city': 'Visakhapatnam', 'continent': 'Asia', 'country': 'India', 'country_code': 'in', 'postcode': '530001', 'state': 'Andhra Pradesh', 'state_code': 'AP', 'state_district': 'Visakhapatnam'}, 'confidence': 3, 'formatted': 'Visakhapatnam, Visakhapatnam - 530001, Andhra Pradesh, India', 'geometry': {'lat': 17.7231276, 'lng': 83.3012842}}, {'annotations': {'DMS': {'lat': \"17° 53' 46.17456'' N\", 'lng': \"82° 33' 31.32288'' E\"}, 'MGRS': '44QPE6512179387', 'Maidenhead': 'NK17gv75bb', 'Mercator': {'x': 9190392.532, 'y': 2012274.319}, 'OSM': {'edit_url': 'https://www.openstreetmap.org/edit?relation=2022111#map=16/17.89616/82.55870', 'url': 'https://www.openstreetmap.org/?mlat=17.89616&mlon=82.55870#map=16/17.89616/82.55870'}, 'UN_M49': {'regions': {'ASIA': '142', 'IN': '356', 'SOUTHERN_ASIA': '034', 'WORLD': '001'}, 'statistical_groupings': ['LEDC']}, 'callingcode': 91, 'currency': {'alternate_symbols': ['Rs', '৳', '૱', '௹', 'रु', '₨'], 'decimal_mark': '.', 'html_entity': '&#x20b9;', 'iso_code': 'INR', 'iso_numeric': '356', 'name': 'Indian Rupee', 'smallest_denomination': 50, 'subunit': 'Paisa', 'subunit_to_unit': 100, 'symbol': '₹', 'symbol_first': 1, 'thousands_separator': ','}, 'flag': '🇮🇳', 'geohash': 'tg4ty9vktjvjuxsg99sy', 'qibla': 282.28, 'roadinfo': {'drive_on': 'left', 'speed_in': 'km/h'}, 'sun': {'rise': {'apparent': 1567815420, 'astronomical': 1567897440, 'civil': 1567900500, 'nautical': 1567899000}, 'set': {'apparent': 1567860000, 'astronomical': 1567864380, 'civil': 1567861320, 'nautical': 1567862820}}, 'timezone': {'name': 'Asia/Kolkata', 'now_in_dst': 0, 'offset_sec': 19800, 'offset_string': '+0530', 'short_name': 'IST'}, 'what3words': {'words': 'flashing.infamous.pardoning'}, 'wikidata': 'Q15394'}, 'bounds': {'northeast': {'lat': 18.5461854, 'lng': 83.4772563}, 'southwest': {'lat': 17.2456546, 'lng': 81.859175}}, 'components': {'ISO_3166-1_alpha-2': 'IN', 'ISO_3166-1_alpha-3': 'IND', '_type': 'state_district', 'continent': 'Asia', 'country': 'India', 'country_code': 'in', 'state': 'Andhra Pradesh', 'state_code': 'AP', 'state_district': 'Visakhapatnam'}, 'confidence': 1, 'formatted': 'Visakhapatnam, India', 'geometry': {'lat': 17.8961596, 'lng': 82.5587008}}, {'annotations': {'DMS': {'lat': \"17° 43' 17.14980'' N\", 'lng': \"83° 17' 26.24028'' E\"}, 'MGRS': '44QQE4292260844', 'Maidenhead': 'NK17pr43ud', 'Mercator': {'x': 9271869.662, 'y': 1991968.669}, 'OSM': {'edit_url': 'https://www.openstreetmap.org/edit?node=600807132#map=16/17.72143/83.29062', 'url': 'https://www.openstreetmap.org/?mlat=17.72143&mlon=83.29062#map=16/17.72143/83.29062'}, 'UN_M49': {'regions': {'ASIA': '142', 'IN': '356', 'SOUTHERN_ASIA': '034', 'WORLD': '001'}, 'statistical_groupings': ['LEDC']}, 'callingcode': 91, 'currency': {'alternate_symbols': ['Rs', '৳', '૱', '௹', 'रु', '₨'], 'decimal_mark': '.', 'html_entity': '&#x20b9;', 'iso_code': 'INR', 'iso_numeric': '356', 'name': 'Indian Rupee', 'smallest_denomination': 50, 'subunit': 'Paisa', 'subunit_to_unit': 100, 'symbol': '₹', 'symbol_first': 1, 'thousands_separator': ','}, 'flag': '🇮🇳', 'geohash': 'tg5hz646u4j6s5r7yg7t', 'qibla': 282.52, 'roadinfo': {'drive_on': 'left', 'road': 'Station Road', 'speed_in': 'km/h'}, 'sun': {'rise': {'apparent': 1567815300, 'astronomical': 1567897260, 'civil': 1567900380, 'nautical': 1567898820}, 'set': {'apparent': 1567859820, 'astronomical': 1567864200, 'civil': 1567861140, 'nautical': 1567862640}}, 'timezone': {'name': 'Asia/Kolkata', 'now_in_dst': 0, 'offset_sec': 19800, 'offset_string': '+0530', 'short_name': 'IST'}, 'what3words': {'words': 'streamers.quickly.foods'}, 'wikidata': 'Q7935582'}, 'bounds': {'northeast': {'lat': 17.7264305, 'lng': 83.2956223}, 'southwest': {'lat': 17.7164305, 'lng': 83.2856223}}, 'components': {'ISO_3166-1_alpha-2': 'IN', 'ISO_3166-1_alpha-3': 'IND', '_type': 'station', 'city': 'Visakhapatnam', 'continent': 'Asia', 'country': 'India', 'country_code': 'in', 'neighbourhood': 'Lalitha Nagar', 'postcode': '530001', 'road': 'Station Road', 'state': 'Andhra Pradesh', 'state_code': 'AP', 'state_district': 'Visakhapatnam', 'station': 'Visakhapatnam', 'suburb': 'Srinivasa Nagar'}, 'confidence': 8, 'formatted': 'Visakhapatnam, Station Road, Srinivasa Nagar, Visakhapatnam - 530001, Andhra Pradesh, India', 'geometry': {'lat': 17.7214305, 'lng': 83.2906223}}]\n"
     ]
    }
   ],
   "source": [
    "query = 'Andhra Pradesh, Visakhapatnam'  \n",
    "results = geocoder.geocode(query)\n",
    "print (results)"
   ]
  },
  {
   "cell_type": "code",
   "execution_count": 9,
   "metadata": {},
   "outputs": [
    {
     "name": "stdout",
     "output_type": "stream",
     "text": [
      "17.7231276 83.3012842\n"
     ]
    }
   ],
   "source": [
    "lat = results[0]['geometry']['lat']\n",
    "\n",
    "lng = results[0]['geometry']['lng']\n",
    "\n",
    "print (lat, lng)"
   ]
  },
  {
   "cell_type": "code",
   "execution_count": 12,
   "metadata": {},
   "outputs": [],
   "source": [
    "list_lat = []   # create empty lists\n",
    "list_long = []\n",
    "results_dict = {}"
   ]
  },
  {
   "cell_type": "code",
   "execution_count": 13,
   "metadata": {},
   "outputs": [],
   "source": [
    "for index, row in df.iterrows():\n",
    "    City = row['City']\n",
    "    State = row['State']\n",
    "    query = str(City)+','+str(State)\n",
    "    if query not in results_dict:\n",
    "        results_dict[query] = geocoder.geocode(query)"
   ]
  },
  {
   "cell_type": "code",
   "execution_count": 14,
   "metadata": {},
   "outputs": [],
   "source": [
    "for index, row in df.iterrows():\n",
    "    City = row['City']\n",
    "    State = row['State']\n",
    "    query = str(City)+','+str(State)\n",
    "    for k in results_dict:\n",
    "        if query == k:\n",
    "            lat = results_dict[k][0]['geometry']['lat']\n",
    "            long = results_dict[k][0]['geometry']['lng']\n",
    "            list_lat.append(lat)\n",
    "            list_long.append(long)"
   ]
  },
  {
   "cell_type": "code",
   "execution_count": 15,
   "metadata": {},
   "outputs": [],
   "source": [
    "df['lat'] = list_lat   \n",
    "df['lon'] = list_long"
   ]
  },
  {
   "cell_type": "code",
   "execution_count": 20,
   "metadata": {},
   "outputs": [
    {
     "data": {
      "text/html": [
       "<div>\n",
       "<style scoped>\n",
       "    .dataframe tbody tr th:only-of-type {\n",
       "        vertical-align: middle;\n",
       "    }\n",
       "\n",
       "    .dataframe tbody tr th {\n",
       "        vertical-align: top;\n",
       "    }\n",
       "\n",
       "    .dataframe thead th {\n",
       "        text-align: right;\n",
       "    }\n",
       "</style>\n",
       "<table border=\"1\" class=\"dataframe\">\n",
       "  <thead>\n",
       "    <tr style=\"text-align: right;\">\n",
       "      <th></th>\n",
       "      <th>year</th>\n",
       "      <th>month</th>\n",
       "      <th>day</th>\n",
       "      <th>SO2</th>\n",
       "      <th>NO2</th>\n",
       "      <th>PM10</th>\n",
       "      <th>Stn Code</th>\n",
       "      <th>State</th>\n",
       "      <th>City</th>\n",
       "      <th>lat</th>\n",
       "      <th>lon</th>\n",
       "    </tr>\n",
       "  </thead>\n",
       "  <tbody>\n",
       "    <tr>\n",
       "      <th>0</th>\n",
       "      <td>2015</td>\n",
       "      <td>1</td>\n",
       "      <td>1</td>\n",
       "      <td>9.0</td>\n",
       "      <td>18.0</td>\n",
       "      <td>46.0</td>\n",
       "      <td>233</td>\n",
       "      <td>Andhra Pradesh</td>\n",
       "      <td>Visakhapatnam</td>\n",
       "      <td>17.723128</td>\n",
       "      <td>83.301284</td>\n",
       "    </tr>\n",
       "    <tr>\n",
       "      <th>1</th>\n",
       "      <td>2015</td>\n",
       "      <td>1</td>\n",
       "      <td>4</td>\n",
       "      <td>8.0</td>\n",
       "      <td>18.0</td>\n",
       "      <td>27.0</td>\n",
       "      <td>233</td>\n",
       "      <td>Andhra Pradesh</td>\n",
       "      <td>Visakhapatnam</td>\n",
       "      <td>17.723128</td>\n",
       "      <td>83.301284</td>\n",
       "    </tr>\n",
       "    <tr>\n",
       "      <th>2</th>\n",
       "      <td>2015</td>\n",
       "      <td>1</td>\n",
       "      <td>7</td>\n",
       "      <td>9.0</td>\n",
       "      <td>15.0</td>\n",
       "      <td>29.0</td>\n",
       "      <td>233</td>\n",
       "      <td>Andhra Pradesh</td>\n",
       "      <td>Visakhapatnam</td>\n",
       "      <td>17.723128</td>\n",
       "      <td>83.301284</td>\n",
       "    </tr>\n",
       "    <tr>\n",
       "      <th>3</th>\n",
       "      <td>2015</td>\n",
       "      <td>1</td>\n",
       "      <td>10</td>\n",
       "      <td>7.0</td>\n",
       "      <td>17.0</td>\n",
       "      <td>78.0</td>\n",
       "      <td>233</td>\n",
       "      <td>Andhra Pradesh</td>\n",
       "      <td>Visakhapatnam</td>\n",
       "      <td>17.723128</td>\n",
       "      <td>83.301284</td>\n",
       "    </tr>\n",
       "    <tr>\n",
       "      <th>4</th>\n",
       "      <td>2015</td>\n",
       "      <td>1</td>\n",
       "      <td>13</td>\n",
       "      <td>9.0</td>\n",
       "      <td>23.0</td>\n",
       "      <td>35.0</td>\n",
       "      <td>233</td>\n",
       "      <td>Andhra Pradesh</td>\n",
       "      <td>Visakhapatnam</td>\n",
       "      <td>17.723128</td>\n",
       "      <td>83.301284</td>\n",
       "    </tr>\n",
       "  </tbody>\n",
       "</table>\n",
       "</div>"
      ],
      "text/plain": [
       "   year  month  day  SO2   NO2  PM10  Stn Code           State           City  \\\n",
       "0  2015      1    1  9.0  18.0  46.0       233  Andhra Pradesh  Visakhapatnam   \n",
       "1  2015      1    4  8.0  18.0  27.0       233  Andhra Pradesh  Visakhapatnam   \n",
       "2  2015      1    7  9.0  15.0  29.0       233  Andhra Pradesh  Visakhapatnam   \n",
       "3  2015      1   10  7.0  17.0  78.0       233  Andhra Pradesh  Visakhapatnam   \n",
       "4  2015      1   13  9.0  23.0  35.0       233  Andhra Pradesh  Visakhapatnam   \n",
       "\n",
       "         lat        lon  \n",
       "0  17.723128  83.301284  \n",
       "1  17.723128  83.301284  \n",
       "2  17.723128  83.301284  \n",
       "3  17.723128  83.301284  \n",
       "4  17.723128  83.301284  "
      ]
     },
     "execution_count": 20,
     "metadata": {},
     "output_type": "execute_result"
    }
   ],
   "source": [
    "df.head()"
   ]
  },
  {
   "cell_type": "code",
   "execution_count": null,
   "metadata": {},
   "outputs": [],
   "source": [
    "for index, row in df.iterrows():\n",
    "    Date = pd.to_datetime()"
   ]
  },
  {
   "cell_type": "code",
   "execution_count": 22,
   "metadata": {},
   "outputs": [],
   "source": [
    "df[\"Date\"] = pd.to_datetime((df.year*10000+df.month*100+df.day).apply(str),format='%Y%m%d')"
   ]
  },
  {
   "cell_type": "code",
   "execution_count": 23,
   "metadata": {},
   "outputs": [
    {
     "data": {
      "text/html": [
       "<div>\n",
       "<style scoped>\n",
       "    .dataframe tbody tr th:only-of-type {\n",
       "        vertical-align: middle;\n",
       "    }\n",
       "\n",
       "    .dataframe tbody tr th {\n",
       "        vertical-align: top;\n",
       "    }\n",
       "\n",
       "    .dataframe thead th {\n",
       "        text-align: right;\n",
       "    }\n",
       "</style>\n",
       "<table border=\"1\" class=\"dataframe\">\n",
       "  <thead>\n",
       "    <tr style=\"text-align: right;\">\n",
       "      <th></th>\n",
       "      <th>year</th>\n",
       "      <th>month</th>\n",
       "      <th>day</th>\n",
       "      <th>SO2</th>\n",
       "      <th>NO2</th>\n",
       "      <th>PM10</th>\n",
       "      <th>Stn Code</th>\n",
       "      <th>State</th>\n",
       "      <th>City</th>\n",
       "      <th>lat</th>\n",
       "      <th>lon</th>\n",
       "      <th>Date</th>\n",
       "    </tr>\n",
       "  </thead>\n",
       "  <tbody>\n",
       "    <tr>\n",
       "      <th>0</th>\n",
       "      <td>2015</td>\n",
       "      <td>1</td>\n",
       "      <td>1</td>\n",
       "      <td>9.0</td>\n",
       "      <td>18.0</td>\n",
       "      <td>46.0</td>\n",
       "      <td>233</td>\n",
       "      <td>Andhra Pradesh</td>\n",
       "      <td>Visakhapatnam</td>\n",
       "      <td>17.723128</td>\n",
       "      <td>83.301284</td>\n",
       "      <td>2015-01-01</td>\n",
       "    </tr>\n",
       "    <tr>\n",
       "      <th>1</th>\n",
       "      <td>2015</td>\n",
       "      <td>1</td>\n",
       "      <td>4</td>\n",
       "      <td>8.0</td>\n",
       "      <td>18.0</td>\n",
       "      <td>27.0</td>\n",
       "      <td>233</td>\n",
       "      <td>Andhra Pradesh</td>\n",
       "      <td>Visakhapatnam</td>\n",
       "      <td>17.723128</td>\n",
       "      <td>83.301284</td>\n",
       "      <td>2015-01-04</td>\n",
       "    </tr>\n",
       "    <tr>\n",
       "      <th>2</th>\n",
       "      <td>2015</td>\n",
       "      <td>1</td>\n",
       "      <td>7</td>\n",
       "      <td>9.0</td>\n",
       "      <td>15.0</td>\n",
       "      <td>29.0</td>\n",
       "      <td>233</td>\n",
       "      <td>Andhra Pradesh</td>\n",
       "      <td>Visakhapatnam</td>\n",
       "      <td>17.723128</td>\n",
       "      <td>83.301284</td>\n",
       "      <td>2015-01-07</td>\n",
       "    </tr>\n",
       "    <tr>\n",
       "      <th>3</th>\n",
       "      <td>2015</td>\n",
       "      <td>1</td>\n",
       "      <td>10</td>\n",
       "      <td>7.0</td>\n",
       "      <td>17.0</td>\n",
       "      <td>78.0</td>\n",
       "      <td>233</td>\n",
       "      <td>Andhra Pradesh</td>\n",
       "      <td>Visakhapatnam</td>\n",
       "      <td>17.723128</td>\n",
       "      <td>83.301284</td>\n",
       "      <td>2015-01-10</td>\n",
       "    </tr>\n",
       "    <tr>\n",
       "      <th>4</th>\n",
       "      <td>2015</td>\n",
       "      <td>1</td>\n",
       "      <td>13</td>\n",
       "      <td>9.0</td>\n",
       "      <td>23.0</td>\n",
       "      <td>35.0</td>\n",
       "      <td>233</td>\n",
       "      <td>Andhra Pradesh</td>\n",
       "      <td>Visakhapatnam</td>\n",
       "      <td>17.723128</td>\n",
       "      <td>83.301284</td>\n",
       "      <td>2015-01-13</td>\n",
       "    </tr>\n",
       "  </tbody>\n",
       "</table>\n",
       "</div>"
      ],
      "text/plain": [
       "   year  month  day  SO2   NO2  PM10  Stn Code           State           City  \\\n",
       "0  2015      1    1  9.0  18.0  46.0       233  Andhra Pradesh  Visakhapatnam   \n",
       "1  2015      1    4  8.0  18.0  27.0       233  Andhra Pradesh  Visakhapatnam   \n",
       "2  2015      1    7  9.0  15.0  29.0       233  Andhra Pradesh  Visakhapatnam   \n",
       "3  2015      1   10  7.0  17.0  78.0       233  Andhra Pradesh  Visakhapatnam   \n",
       "4  2015      1   13  9.0  23.0  35.0       233  Andhra Pradesh  Visakhapatnam   \n",
       "\n",
       "         lat        lon       Date  \n",
       "0  17.723128  83.301284 2015-01-01  \n",
       "1  17.723128  83.301284 2015-01-04  \n",
       "2  17.723128  83.301284 2015-01-07  \n",
       "3  17.723128  83.301284 2015-01-10  \n",
       "4  17.723128  83.301284 2015-01-13  "
      ]
     },
     "execution_count": 23,
     "metadata": {},
     "output_type": "execute_result"
    }
   ],
   "source": [
    "df.head()"
   ]
  },
  {
   "cell_type": "code",
   "execution_count": 25,
   "metadata": {},
   "outputs": [],
   "source": [
    "df.to_csv('updated.csv')"
   ]
  },
  {
   "cell_type": "code",
   "execution_count": null,
   "metadata": {},
   "outputs": [],
   "source": []
  },
  {
   "cell_type": "code",
   "execution_count": 87,
   "metadata": {},
   "outputs": [],
   "source": []
  },
  {
   "cell_type": "code",
   "execution_count": null,
   "metadata": {},
   "outputs": [],
   "source": []
  }
 ],
 "metadata": {
  "kernelspec": {
   "display_name": "Python 3",
   "language": "python",
   "name": "python3"
  },
  "language_info": {
   "codemirror_mode": {
    "name": "ipython",
    "version": 3
   },
   "file_extension": ".py",
   "mimetype": "text/x-python",
   "name": "python",
   "nbconvert_exporter": "python",
   "pygments_lexer": "ipython3",
   "version": "3.7.3"
  }
 },
 "nbformat": 4,
 "nbformat_minor": 2
}
